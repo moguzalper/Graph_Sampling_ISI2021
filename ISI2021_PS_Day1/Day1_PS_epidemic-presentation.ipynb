{
 "cells": [
  {
   "cell_type": "markdown",
   "metadata": {},
   "source": [
    "# <center>Day-1 Practical Session, 25 May 2021</center>\n",
    "## <center>Part 1: Epidemic Prevalence Estimation</center>\n",
    "#### <center> *Li-Chun Zhang*<sup>1,2,3</sup> and *Melike Oguz-Alper*<sup>2</sup> </center>\n",
    "  \n",
    "##### <center> <sup>1</sup>*University of Southampton (L.Zhang@soton.ac.uk)*, <sup>2</sup>*Statistics Norway*, <sup>3</sup>*University of Oslo* </center>\n",
    "***"
   ]
  },
  {
   "cell_type": "markdown",
   "metadata": {},
   "source": [
    "<a id=\"size-biased\"></a>\n",
    "### Illustration I: Size-biased sampling and adaptive network tracing\n",
    "\n",
    "In this illustration, the efficiency of the Horvitz-Thompson estimator (HTE) of epidemic prevalence under Adaptive Cluster Sampling (ACS) by adaptive network tracing will be compared with the HTE based on the initial sample $s_0$, selected with either Simple Random Sampling ($\\eta=1$) or *size-biased* sampling with $\\eta\\neq 1$, where $\\eta$ is the *odds-ratio* between case and non-case groups, which is defined by $$\\eta=\\frac{Pr(i\\in s_0|y_i=1)}{Pr(i\\in s_0|y_i=0)}\\cdot$$\n",
    "\n",
    "***\n",
    "We will use the R-function <font color=green>**mainEpi**</font> described below.\n",
    "***\n",
    "#### Description of the population and sampling strategies\n",
    "* Population graph: $G=(U,A)$, $(ij)\\in A$ if $i\\in U$ and $j\\in U$ are in-contact\n",
    "* Population size is denoted by $N$\n",
    "* The population consists of cases and non-cases: $y_i=1$ if case, and $y_i=0$ otherwise\n",
    "* A *case network* in $G$ contains all case-nodes connected to each other\n",
    "* The set of case networks in $G$ denoted by $\\Omega$\n",
    "* The total number of cases in the population is denoted by $Y=\\sum_{i\\in U}y_i$ within the function below\n",
    "* All the cases in the population divided into equal-size networks, $K$\n",
    "* Initial sample $s_0$ of size $n_0$ is selected with either SRS or Poisson sampling with probabilities $\\pi_i\\propto \\eta$ \n",
    "* For ACS, all case-networks that initially selected cases in $s_0$ belong to are taken into the sample\n",
    "* Sampled case networks denoted by $\\Omega_s$\n",
    "\n",
    "***\n",
    "\n",
    "#### Description of R-function <font color=green>**mainEpi**<font> \n",
    "##### 1. Function parameters\n",
    "* **N**: the population size; deafult value $100\\,000$\n",
    "* **theta**: prevalence in the population, i.e. the proportion of the cases in the population, $\\theta=Y/N$; default value $0.01$\n",
    "* **f**: sampling fraction, $f=n_0/N$; default value $0.01$\n",
    "* **M**: the number of case-networks in the population; default value $10$\n",
    "* **lift**: the odds-ratio between cases and non-cases, denoted by $\\eta$; default value $1$\n",
    "* **B**: number of replications; default value $100$\n",
    "\n",
    "##### 2. Main steps of the function\n",
    "* Equal case-network size, **K**, is calculated based on **N** and **M**, and the total number of cases is calculated by **Y**=**MK**\n",
    "* Index for case-networks, **kidx**, is created for all cases and set to $0$ for all non-cases, such that the first **Y** units in the population take a network id number while the last $N-Y$ units take value $0$, that is, $\\underbrace{1,1,\\dots,1}_{K \\text{ times}},\\underbrace{2,2,\\dots,2}_{K \\text{ times}},\\dots,\\underbrace{M,M,\\dots,M}_{K \\text{ times}},\\underbrace{0,0,\\dots,0}_{(N-Y) \\text{ times}}$\n",
    "* Inclusion probabilities, $\\pi_i=\\mathrm{Pr}(i\\in s_0)$, denoted by **p** inside the function, are calculated as proportional to **lift** if $y_i=1$, and $1$ otherwise\n",
    "* Inclusion probabilites of case-networks are calculated by \n",
    "    * $\\pi_{(\\kappa)}=1-(1-p)^K$, denoted by **pr.k** inside the function, under Poisson sampling of $s_0$,\n",
    "    * $\\pi_{(\\kappa)}=1-\\binom{N-K}{n_0}/\\binom{N}{n_0}$, denoted by **p.k** inside the function, under SRS of $s_0$\n",
    "* An $Y\\times 2$ array is created, called **nidx** inside the function, the first and the second columns of which are replaced with the case-network sizes and their inclusion probabilities, respectively \n",
    "* The HTE of the prevalence the population:\n",
    "\n",
    "    $\\hat{\\theta}_{HT} = \\frac{1}{N}\\sum_{\\kappa\\in \\Omega_s}  \\frac{y_{\\kappa}}{\\pi_{(\\kappa)}}$, where $y_{\\kappa}$ the number of cases in network $\\kappa$\n",
    "\n",
    "* Sampling variances of the HTE based on $s_0$ are calculated under SRS and Poisson sampling: **v.srs** and **v.pois**\n",
    "$$V_{srs}(\\hat{\\theta}_{HT;s_0})=\\big(1-\\frac{n_0}{N}\\big)\\frac{\\theta(1-\\theta)}{n_0},\\quad V_{pois}(\\hat{\\theta}_{HT;s_0})=\\frac{1}{N^2}\\sum_{i \\in U}\\big(\\frac{1}{\\pi_i}-1\\big)y_i$$\n",
    "* Sampling variance of the HTE under ACS is calculated by\n",
    "$$V_{acs}(\\hat{\\theta}_{HT})=\\frac{1}{N^2}\\left\\{\\sum_{\\kappa\\in\\Omega}\\big(\\frac{1}{\\pi_{(\\kappa)}}-1\\big)K^2+\\sum_{\\kappa\\in\\Omega}\\sum_{\\ell\\neq \\kappa\\in\\Omega}\\big(\\frac{\\pi_{(\\kappa\\ell)}}{\\pi_{(\\kappa)}\\pi_{(\\ell)}}-1\\big)K^2\\right\\}\\cdot$$\n",
    "\n",
    "Here, we have $\\pi_{(\\kappa\\ell)}=\\pi_{(\\kappa)}+\\pi_{(\\ell)}-(1-\\bar\\pi_{(\\kappa\\cup\\ell)})$, with $\\bar\\pi_{(\\kappa\\cup\\ell)}=(1-p)^{2K}$ if poisson sampling.\n",
    "* Simulation study\n",
    "    * **B** random samples selected with *Sequential Poisson Sampling* (SPS) from the population\n",
    "    * For each replication, the population prevalence is estimated based on $s_0$ and the sample of case-networks observed by adaptive tracing \n",
    "    \n",
    "##### 2. Main outputs of the function\n",
    "* Relative efficiency of the HTE under ACS against the HTE based on the initial sample $s_0$ selected with either SRS or poisson sampling \n",
    "    \n",
    "***"
   ]
  },
  {
   "cell_type": "code",
   "execution_count": 37,
   "metadata": {},
   "outputs": [],
   "source": [
    "mainEpi <- function(N=10^5,theta=0.01,f=0.01,M=10,lift=1,B=100)\n",
    "{\n",
    "  K = trunc(N*theta/M + 0.5); Y = M*K\n",
    "  kidx = rep(0,N); kidx[1:Y] = c(t(array(1:M,c(M,K))))\n",
    "  y = 1*(kidx>0)\n",
    "  n0 = trunc(N*f+0.5)\n",
    "  cat(\"(M, K, Y, n0) =\",c(length(unique(kidx))-1,K,sum(y),n0),\"\\n\")\n",
    "  \n",
    "  p = rep(n0/N,N); p[1:Y] = lift*p[1:Y]; p = n0*p/sum(p)\n",
    "  pr.k = p.k = 1-exp(c(1:K)*log(1-max(p))); cat('Summary of pr.k under pois:','\\n');print(summary(pr.k))\n",
    "    if (lift==1) {\n",
    "    for (m in 1:K) { p.k[m] = 1-exp(sum(log(N-m+1-c(1:n0)) - log(N+1-c(1:n0)))) }\n",
    "   cat('Summary of p.k if SRS:','\\n');\n",
    "        print(summary(p.k))}\n",
    "  nidx = array(0,c(Y,2))\n",
    "  for (k in 1:M) { idk = kidx[1:Y]==k; nidx[idk,1] = sum(idk); nidx[idk,2] = pr.k[sum(idk)] }\n",
    "  \n",
    "  v.srs = (1-n0/N)*theta*(1-theta)/n0\n",
    "  v.pois = sum((1/p-1)*y)/N^2\n",
    "  cat(\"SE(initial) by SRS, Pois =\",sqrt(c(v.srs,v.pois)),\"\\n\")\n",
    "  tmp = 1 + exp(2*K*log(1-max(p))) - 2*exp(K*log(1-max(p)))\n",
    "  v.acs = c(M*(1/pr.k[K]-1), M*(M-1)*(tmp/pr.k[K]^2 -1))*K^2/N^2\n",
    "  cat(\"SE(ACS) =\",sqrt(sum(v.acs)),\"\\t leading term:\",sqrt(v.acs[1]),\"\\n\")\n",
    "  cat(\"RE(analytic) =\",sum(v.acs)/v.pois,\"\\n\")\n",
    "  \n",
    "  mat = array(0,c(B,5))\n",
    "  for (i in 1:B) {\n",
    "# s0 by SPS (sequential Poisson sampling), s0y = effective sample of cases \n",
    "    u = runif(N,0,1)/p\n",
    "    s0 = sort((c(1:N)[order(u)])[1:n0])\n",
    "    s0y = s0[s0<=Y]\n",
    "    mat[i,3] = length(s0y)\n",
    "    mat[i,5] = n0-mat[i,3]\n",
    "# initial sample estimator      \n",
    "    mat[i,1] = sum(1/p[s0y])/N\n",
    "# HT estimator, need only the first unit in s0 for each case-network\n",
    "    idk = s0y[!duplicated(kidx[s0y])]\n",
    "    mat[i,2] = sum(nidx[idk,1]/nidx[idk,2])/N\n",
    "    mat[i,4] = length(idk)\n",
    "    mat[i,5] = mat[i,5] + sum(nidx[idk,1])\n",
    "  }\n",
    "  \n",
    "  emat = rbind(colMeans(mat), sqrt(diag(var(mat))))\n",
    "  colnames(emat) = c(\"Est.s0\",\"Est.ACS\",\"No cases s0\",'No sample case-ntw','No sample units')\n",
    "  rownames(emat) = c(\"MC-Mean\",\"MC-SD\")\n",
    "  print(emat) \n",
    "  cat(\"RE(simulation) =\",var(mat[,2])/c(var(mat[,1]),v.pois),\"\\n\")\n",
    "}"
   ]
  },
  {
   "cell_type": "code",
   "execution_count": 38,
   "metadata": {},
   "outputs": [
    {
     "name": "stdout",
     "output_type": "stream",
     "text": [
      "(M, K, Y, n0) = 10 100 1000 1000 \n",
      "Summary of pr.k under pois: \n",
      "   Min. 1st Qu.  Median    Mean 3rd Qu.    Max. \n",
      " 0.0100  0.2280  0.3980  0.3724  0.5306  0.6340 \n",
      "Summary of p.k if SRS: \n",
      "   Min. 1st Qu.  Median    Mean 3rd Qu.    Max. \n",
      " 0.0100  0.2280  0.3981  0.3725  0.5307  0.6342 \n",
      "SE(initial) by SRS, Pois = 0.003130655 0.003146427 \n",
      "SE(ACS) = 0.002402847 \t leading term: 0.002402847 \n",
      "RE(analytic) = 0.5831995 \n",
      "             Est.s0     Est.ACS No cases s0 No sample case-ntw No sample units\n",
      "MC-Mean 0.009760000 0.009842773    9.760000            6.24000       1614.2400\n",
      "MC-SD   0.002730745 0.002092615    2.730745            1.32665        130.7703\n",
      "RE(simulation) = 0.5872406 0.4423268 \n"
     ]
    }
   ],
   "source": [
    "mainEpi(N=10^5,theta=0.01,f=0.01,M=10,lift=1,B=100) # With default parameters, or just run mainEpi() "
   ]
  },
  {
   "cell_type": "code",
   "execution_count": 39,
   "metadata": {},
   "outputs": [
    {
     "data": {
      "text/html": [
       "0.00246748860179738"
      ],
      "text/latex": [
       "0.00246748860179738"
      ],
      "text/markdown": [
       "0.00246748860179738"
      ],
      "text/plain": [
       "[1] 0.002467489"
      ]
     },
     "metadata": {},
     "output_type": "display_data"
    }
   ],
   "source": [
    "sqrt((1-1600/100000)*0.01*0.99/1600) # SE under SRS for n0=E(|s|)=1600"
   ]
  },
  {
   "cell_type": "code",
   "execution_count": 40,
   "metadata": {},
   "outputs": [
    {
     "name": "stdout",
     "output_type": "stream",
     "text": [
      "(M, K, Y, n0) = 10 100 1000 1000 \n",
      "Summary of pr.k under pois: \n",
      "   Min. 1st Qu.  Median    Mean 3rd Qu.    Max. \n",
      " 0.0198  0.4025  0.6358  0.5720  0.7780  0.8647 \n",
      "SE(initial) by SRS, Pois = 0.003130655 0.00222486 \n",
      "SE(ACS) = 0.001251022 \t leading term: 0.001251022 \n",
      "RE(analytic) = 0.3161729 \n",
      "             Est.s0     Est.ACS No cases s0 No sample case-ntw No sample units\n",
      "MC-Mean 0.009862650 0.010050033   19.530000           8.690000      1849.47000\n",
      "MC-SD   0.002185925 0.001181869    4.328564           1.021931        99.94286\n",
      "RE(simulation) = 0.2923266 0.2821848 \n"
     ]
    }
   ],
   "source": [
    "mainEpi(lift=2) # Size-biased sampling"
   ]
  },
  {
   "cell_type": "code",
   "execution_count": 41,
   "metadata": {},
   "outputs": [
    {
     "data": {
      "text/html": [
       "0.00232400516350545"
      ],
      "text/latex": [
       "0.00232400516350545"
      ],
      "text/markdown": [
       "0.00232400516350545"
      ],
      "text/plain": [
       "[1] 0.002324005"
      ]
     },
     "metadata": {},
     "output_type": "display_data"
    }
   ],
   "source": [
    "sqrt((1-1800/100000)*0.01*0.99/1800) # SE under SRS for n0=E(|s|)=1800"
   ]
  },
  {
   "cell_type": "code",
   "execution_count": 42,
   "metadata": {},
   "outputs": [
    {
     "data": {
      "text/html": [
       "0.001651598552245"
      ],
      "text/latex": [
       "0.001651598552245"
      ],
      "text/markdown": [
       "0.001651598552245"
      ],
      "text/plain": [
       "[1] 0.001651599"
      ]
     },
     "metadata": {},
     "output_type": "display_data"
    }
   ],
   "source": [
    "eta <- 2\n",
    "n <- 1800\n",
    "sqrt(((100000+n*(eta-1))/(n*eta)-1)*1000/100000/100000) # SE under poisson for n0=E(|s|)=1800; pr.i becomes n0*lift/(N+Y*(lift-1)) for cases, and n0/(N+Y*(lift-1)) for non-cases"
   ]
  },
  {
   "cell_type": "code",
   "execution_count": 43,
   "metadata": {},
   "outputs": [
    {
     "name": "stdout",
     "output_type": "stream",
     "text": [
      "(M, K, Y, n0) = 10 100 1000 1000 \n",
      "Summary of pr.k under pois: \n",
      "   Min. 1st Qu.  Median    Mean 3rd Qu.    Max. \n",
      " 0.1316  0.9735  0.9992  0.9340  1.0000  1.0000 \n",
      "SE(initial) by SRS, Pois = 0.003130655 0.0008124038 \n",
      "SE(ACS) = 2.73223e-06 \t leading term: 2.73223e-06 \n",
      "RE(analytic) = 1.131073e-05 \n",
      "             Est.s0    Est.ACS No cases s0 No sample case-ntw No sample units\n",
      "MC-Mean 0.009947640 0.01000001   130.89000                 10      1869.11000\n",
      "MC-SD   0.000806691 0.00000000    10.61436                  0        10.61436\n",
      "RE(simulation) = 0 0 \n"
     ]
    }
   ],
   "source": [
    "mainEpi(lift=15)"
   ]
  },
  {
   "cell_type": "code",
   "execution_count": 47,
   "metadata": {},
   "outputs": [
    {
     "name": "stdout",
     "output_type": "stream",
     "text": [
      "(M, K, Y, n0) = 500 2 1000 1000 \n",
      "Summary of pr.k under pois: \n",
      "   Min. 1st Qu.  Median    Mean 3rd Qu.    Max. \n",
      "0.01000 0.01247 0.01495 0.01495 0.01742 0.01990 \n",
      "Summary of p.k if SRS: \n",
      "   Min. 1st Qu.  Median    Mean 3rd Qu.    Max. \n",
      "0.01000 0.01248 0.01495 0.01495 0.01743 0.01990 \n",
      "SE(initial) by SRS, Pois = 0.003130655 0.003146427 \n",
      "SE(ACS) = 0.003138511 \t leading term: 0.003138511 \n",
      "RE(analytic) = 0.9949749 \n",
      "             Est.s0     Est.ACS No cases s0 No sample case-ntw No sample units\n",
      "MC-Mean 0.009890000 0.009869347    9.890000           9.820000     1009.750000\n",
      "MC-SD   0.003413861 0.003408595    3.413861           3.391552        3.388558\n",
      "RE(simulation) = 0.9969176 1.173588 \n"
     ]
    }
   ],
   "source": [
    "mainEpi(M=500) # Small networks"
   ]
  },
  {
   "cell_type": "code",
   "execution_count": 46,
   "metadata": {},
   "outputs": [
    {
     "name": "stdout",
     "output_type": "stream",
     "text": [
      "(M, K, Y, n0) = 500 2 1000 1000 \n",
      "Summary of pr.k under pois: \n",
      "   Min. 1st Qu.  Median    Mean 3rd Qu.    Max. \n",
      "0.01980 0.02465 0.02951 0.02951 0.03436 0.03921 \n",
      "SE(initial) by SRS, Pois = 0.003130655 0.00222486 \n",
      "SE(ACS) = 0.002213707 \t leading term: 0.002213707 \n",
      "RE(analytic) = 0.99 \n",
      "             Est.s0     Est.ACS No cases s0 No sample case-ntw No sample units\n",
      "MC-Mean 0.009589950 0.009599141   18.990000          18.820000      1018.65000\n",
      "MC-SD   0.002209415 0.002227838    4.375079           4.367881         4.39783\n",
      "RE(simulation) = 1.016746 1.002679 \n"
     ]
    }
   ],
   "source": [
    "mainEpi(lift=2,M=500) # Small networks, size-biased sampling"
   ]
  },
  {
   "cell_type": "code",
   "execution_count": 48,
   "metadata": {},
   "outputs": [
    {
     "name": "stdout",
     "output_type": "stream",
     "text": [
      "(M, K, Y, n0) = 500 2 1000 5000 \n",
      "Summary of pr.k under pois: \n",
      "   Min. 1st Qu.  Median    Mean 3rd Qu.    Max. \n",
      "0.09901 0.12131 0.14361 0.14361 0.16592 0.18822 \n",
      "SE(initial) by SRS, Pois = 0.001371496 0.0009539392 \n",
      "SE(ACS) = 0.0009287649 \t leading term: 0.0009287649 \n",
      "RE(analytic) = 0.9479167 \n",
      "              Est.s0      Est.ACS No cases s0 No sample case-ntw\n",
      "MC-Mean 0.0098899200 0.0098747805   97.920000           92.93000\n",
      "MC-SD   0.0008667783 0.0008099955    8.581964            7.62274\n",
      "        No sample units\n",
      "MC-Mean     5087.940000\n",
      "MC-SD          7.294415\n",
      "RE(simulation) = 0.8732712 0.720981 \n"
     ]
    }
   ],
   "source": [
    "mainEpi(lift=2,M=500,f=0.05) # Small networks, size-biased sampling, larger n0"
   ]
  },
  {
   "cell_type": "code",
   "execution_count": 49,
   "metadata": {},
   "outputs": [
    {
     "name": "stdout",
     "output_type": "stream",
     "text": [
      "(M, K, Y, n0) = 500 2 1000 5000 \n",
      "Summary of pr.k under pois: \n",
      "   Min. 1st Qu.  Median    Mean 3rd Qu.    Max. \n",
      "0.05000 0.06187 0.07375 0.07375 0.08563 0.09750 \n",
      "Summary of p.k if SRS: \n",
      "   Min. 1st Qu.  Median    Mean 3rd Qu.    Max. \n",
      "0.05000 0.06188 0.07375 0.07375 0.08563 0.09750 \n",
      "SE(initial) by SRS, Pois = 0.001371496 0.001378405 \n",
      "SE(ACS) = 0.001360618 \t leading term: 0.001360618 \n",
      "RE(analytic) = 0.974359 \n",
      "             Est.s0     Est.ACS No cases s0 No sample case-ntw No sample units\n",
      "MC-Mean 0.010094000 0.010100513   50.470000          49.240000     5048.010000\n",
      "MC-SD   0.001466241 0.001430149    7.331205           6.971979        6.791996\n",
      "RE(simulation) = 0.9513759 1.076488 \n"
     ]
    }
   ],
   "source": [
    "mainEpi(lift=1,M=500,f=0.05) # Small networks, SRS, larger n0"
   ]
  }
 ],
 "metadata": {
  "kernelspec": {
   "display_name": "R",
   "language": "R",
   "name": "ir"
  },
  "language_info": {
   "codemirror_mode": "r",
   "file_extension": ".r",
   "mimetype": "text/x-r-source",
   "name": "R",
   "pygments_lexer": "r",
   "version": "3.6.1"
  }
 },
 "nbformat": 4,
 "nbformat_minor": 4
}
