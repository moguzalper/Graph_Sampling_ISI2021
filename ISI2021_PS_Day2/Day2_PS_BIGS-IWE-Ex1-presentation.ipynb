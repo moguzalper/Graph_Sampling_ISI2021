{
 "cells": [
  {
   "cell_type": "markdown",
   "metadata": {},
   "source": [
    "# <center>Day-2 Practical Session, 26 May 2021</center>\n",
    "## <center>Part 1: Incidence Weighting Estimator (IWE) under Bipartite Incidence Graph Sampling (BIGS)</center>\n",
    "#### <center> *Li-Chun Zhang*<sup>1,2,3</sup> and *Melike Oguz-Alper*<sup>2</sup> </center>\n",
    "  \n",
    "##### <center> <sup>1</sup>*University of Southampton (L.Zhang@soton.ac.uk)*, <sup>2</sup>*Statistics Norway*, <sup>3</sup>*University of Oslo* </center>\n",
    "***"
   ]
  },
  {
   "cell_type": "markdown",
   "metadata": {},
   "source": [
    "### Illustration I: BIGS-IWE strategy: small data set\n",
    "\n",
    "In this illustration, we will compare the efficiencies of several IWE estimators including the priority-rule estimators under BIG sampling. The first example is based on a small graph the node labels of which are the same as those in the graph described in Section 2.4.1 in Lecture Notes. Edges are created randomly by using the R-function <font color=green>**skthBIG**</font>.  \n",
    "\n",
    "***\n",
    "#### Description of the population and sampling strategies\n",
    "* Population BIG: $\\mathcal{B}=(F,\\Omega;H)$, $H$ consists of edges between *sampling units* $i\\in F$ and *study units* $\\kappa\\in\\Omega$\n",
    "* Sample BIG: $\\mathcal{B}_s=(s_0,\\Omega_s;H_s)$ with $s_0\\in F$, $\\Omega_s=\\alpha(s_0)$, and $s_{ref}=s_0\\times \\Omega$ such that $H_s=H\\cap s_{ref}=H\\cap(s_0 \\times \\Omega)$\n",
    "* $\\beta_{\\kappa}$: *ancestry* set of $\\kappa \\in \\Omega$ and $\\alpha_i$: *successors* of $i \\in F$ \n",
    "* $s_0$ of size $n$ selected with SRSWOR from sampling frame $F$ of size $N$\n",
    "*** \n",
    "\n",
    "\n",
    "#### Formula sheet\n",
    "* The parameter of interest: size of $\\Omega$: \n",
    "\n",
    "    $\\theta=\\sum_{\\kappa\\in\\Omega}y_{\\kappa}$, where $y_{\\kappa}=1$ for all $\\kappa\\in \\Omega$\n",
    "\n",
    "* IWE based on  $\\mathcal{B}_s=(s_0,\\Omega_s;H_s)$ by BIGS\n",
    "\n",
    "    $\\hat{\\theta} = \\sum_{(i\\kappa) \\in H_s} W_{i\\kappa} \\frac{y_{\\kappa}}{\\pi_i}$\n",
    "\n",
    "* Hansen-Hurwitz (HH) type estimators: special case of IWE, *constant* weights\n",
    "\n",
    "    $\\hat{\\theta} =  \\sum_{i\\in s_0}\\frac{z_i}{\\pi_i}$, where $z_i=\\sum_{\\kappa \\in\\alpha_i}w_{i\\kappa}y_{\\kappa}$, with $\\sum_{i\\in \\beta_{\\kappa}} w_{i\\kappa}=1$\n",
    "\n",
    "    * HH-type estimator with *equal* weights: *multiplicity* estimator (Birnbaum and Sirken 1965)\n",
    "    \n",
    "        $w_{i\\kappa}\\equiv \\frac{1}{\\mid\\beta_{\\kappa}\\mid}$\n",
    "    \n",
    "    * HH-type estimator with *unequal* weights: *probability and inverse degree-adjusted (PIDA) weights*\n",
    "     \n",
    "        $w_{i\\kappa}\\propto \\frac{\\pi_i}{\\mid\\alpha_i\\mid^{\\gamma}}$, $\\gamma > 0$\n",
    "        \n",
    "**NB**. Under SRS of $s_0$ and when $\\gamma=0$, the HH-type estimator with PIDA weights become equivalent to the multiplicity estimator above\n",
    "    \n",
    "* HTE: a special case of IWE\n",
    "\n",
    "    $\\hat{\\theta}_{HT}=\\sum_{\\kappa\\in \\Omega_s} \\frac{y_{\\kappa}}{\\pi_{(\\kappa)}}$\n",
    "\n",
    "\n",
    "The first-order inclusion probabilies $\\pi_{(\\kappa)}=\\mathrm{Pr}(\\kappa\\in\\Omega_s)$ can be calculated, under SRS of $s_0$, by\n",
    "\n",
    "$\\pi_{(\\kappa)}=1-\\bar{\\pi}_{\\beta_{\\kappa}}=1-\\binom{N-\\mid\\beta_{\\kappa}\\mid}{n}/\\binom{N}{n}$, where $\\mid\\beta_{\\kappa}\\mid$ is the size of the ancestor set of $\\kappa$\n",
    "    \n",
    "* Priority-rule estimators with *priority rule* to the sample edges $H_s$: $I_{i\\kappa} = 1$ if $i = \\min(s_0 \\cap \\beta_{\\kappa})$, and $I_{i\\kappa} = 0$ otherwise\n",
    "\n",
    "    $\\hat{\\theta}_p = \\sum_{(i\\kappa)\\in H_s} \\Big( \\frac{I_{i\\kappa} \\omega_{i\\kappa}}{p_{(i\\kappa)}} \\Big) \\frac{y_{\\kappa}}{\\pi_i}$, where $p_{(i\\kappa)} = \\mbox{Pr}(I_{i\\kappa} =1 | \\kappa \\in \\Omega_s)$\n",
    "    \n",
    "The probabilities $p_{(i\\kappa)}$ can be calculated, under SRS of $s_0$, by \n",
    "\n",
    "$p_{(i\\kappa)}=\\binom{N-1-d_{i(\\kappa)}}{n-1}/\\binom{N-1}{n-1}$, where $d_{i(\\kappa)}$ the number of nodes with higher probability than $i$ for each $\\kappa \\in \\Omega$ and $i\\in \\beta_{\\kappa}$ for the priority-rule $\\min(s_0 \\cap \\beta_{\\kappa})$\n",
    "\n",
    "\n",
    "***\n",
    "\n",
    "**NB**. R-package **igraph** has to be installed before running R-functions below that generates random graphs.\n",
    "\n",
    "***\n",
    "\n",
    "#### Description of R-function <font color=green>**skthBIG**</font>\n",
    "##### 1. Function parameters\n",
    "* **showplot**: Use <font color=blue>**TRUE**</font> to get BIG illustration. Default value: <font color=blue>**FALSE**</font>\n",
    "\n",
    "##### 2. Main steps of the function\n",
    "* A random bipartite graph generated with $F=\\{1,2,3,4\\}$ and $\\Omega=\\{5,6,7,8,9,10,11\\}$\n",
    "* Out and in-degrees initiliased based on $\\mid\\alpha_i\\mid$ and $\\mid\\beta_{\\kappa}\\mid$, for $i\\in F$ and $\\kappa \\in \\Omega$, in the example presented in Section 2.4.1. However, final values may differ from these initial value due to random generation of edges. The total number of degrees may differ as well, since multiple edges and loops are removed if they exist in the initial random graph generated \n",
    "\n",
    "##### 3. Main outputs of the function\n",
    "* BIG plot shown if **showplot**=  <font color=blue>**TRUE**</font>\n",
    "* A list of random graph generated: Use **$G** to get the graph\n",
    "\n",
    "\n",
    "#### Description of R-function <font color=green>**zFun**</font>\n",
    "##### 1. Function parameters\n",
    "* **popgraph**: population graph to be used: outputs of <font color=green>**skthBIG**</font>\n",
    "* **coefgamma**: coefficient to be used in the HH-type estimator with PIDA weights; default value $0$. No effect of the choice if **multiplicity**= <font color=blue>**TRUE**</font>\n",
    "* **n**: sample size of initial sample $s_0$; default value $2$\n",
    "* **multiplicity**: Use <font color=blue>**TRUE**</font> to get $z_i$ values based on equal weights, i.e. $w_{i\\kappa}=\\mid\\beta_{\\kappa}\\mid^{-1}$; default <font color=blue>**FALSE**</font>\n",
    "\n",
    "##### 2. Main steps of the function\n",
    "* Edge set derived from the population graph, as well as the labels of the vertices in $F$ and $\\Omega$\n",
    "* $\\mid \\alpha_i \\mid$ and $\\mid \\beta_{\\kappa}\\mid$ calculated based on the edge set\n",
    "* $z_i$ values calculated for all $i\\in F$ for chosen values of $\\gamma$\n",
    "\n",
    "##### 3. Main outputs of the function\n",
    "* $z_i$ values returned\n",
    "\n",
    "\n",
    "#### Description of R-function <font color=green>**mainBIGSIWE**</font>\n",
    "##### 1. Function parameters\n",
    "* **popgraph**: population graph to be used: use the output of the function <font color=green>**skthBIG**</font>\n",
    "* **coefgamma**: coefficient to be used in the HH-type estimator with PIDA weights; default value $0$\n",
    "* **n**: sample size of initial sample $s_0$; default value $2$\n",
    "\n",
    "\n",
    "##### 2. Main steps of the function\n",
    "* Edge set derived from the population graph, as well as the labels of the vertices in $F$ and $\\Omega$\n",
    "* $\\mid \\alpha_i \\mid$ and $\\mid \\beta_{\\kappa}\\mid$ calculated based on the edge set\n",
    "* Inclusion probabilities $\\pi_{(\\kappa)}$ calculated based on $\\mid \\beta_{\\kappa}\\mid$\n",
    "* All possible samples of size $n$ selected with SRS from $F$\n",
    "* For each random sample, estimates obtained from the HTE, the HH-type estimator and the priority-rule estimator. For the last one, three orders of out-degrees $\\alpha_i$, considered: *random*, *ascending* and *descending*\n",
    "\n",
    "##### 3. Main outputs of the function\n",
    "* Expected values and the sampling variances of the estimators calculated based on the sample estimates over all possible samples\n",
    "\n",
    "***"
   ]
  },
  {
   "cell_type": "code",
   "execution_count": 57,
   "metadata": {},
   "outputs": [],
   "source": [
    "# Load package -igraph-\n",
    "library(igraph)"
   ]
  },
  {
   "cell_type": "code",
   "execution_count": 58,
   "metadata": {},
   "outputs": [],
   "source": [
    "# Examples similar to those in Chapter 2.4\n",
    "##\n",
    "# Same vertices as the graph in Chapter 2.4.1 in Lecture Notes\n",
    "# Edges created randomly may differ from those in L.Notes\n",
    "skthBIG <- function(showplot=FALSE){\n",
    "tmp.card_alphai <- c(3,4,1,5)\n",
    "tmp.card_betak <- c(1,2,3,3,2,1,1)\n",
    "\n",
    "    \n",
    "# Generate random bipartite graph.\n",
    "# g <- sample_bipartite(6, 9, type=\"Gnm\",m=15,directed=TRUE) # this may generate a graph with isolated nodes\n",
    "g <- sample_degseq(out.deg=c(tmp.card_alphai,rep(0,length(tmp.card_betak))), in.deg = c(rep(0,length(tmp.card_alphai)),tmp.card_betak))\n",
    "\n",
    "\n",
    "# Simplify graph by removing loops and multiple edges\n",
    "g <- simplify(g, remove.multiple = TRUE, remove.loops = TRUE,\n",
    "              edge.attr.comb = igraph_opt(\"edge.attr.comb\"))\n",
    "\n",
    "# Apply bipartite layout\n",
    "LO_bipart <- layout_as_bipartite(g,types=bipartite_mapping(g)$type)\n",
    "LO_bipart[bipartite_mapping(g)$type==FALSE,2] <- 0\n",
    "LO_bipart[bipartite_mapping(g)$type==TRUE,2] <- 1\n",
    "\n",
    "\n",
    "\n",
    "nodecolor <- rep(\"yellow\",length(V(g)))\n",
    "nodecolor[bipartite_mapping(g)$type==TRUE] <- \"orange\"\n",
    "\n",
    "# Plot BIG\n",
    "if(showplot){\n",
    "plot(g, vertex.label=V(g), vertex.size=10,vertex.label.dist=0,vertex.label.cex=1.25,\n",
    "     vertex.color=nodecolor, layout=LO_bipart[,2:1])\n",
    "}\n",
    "return(list(G=g))\n",
    "}"
   ]
  },
  {
   "cell_type": "code",
   "execution_count": 59,
   "metadata": {},
   "outputs": [],
   "source": [
    "# zi-values\n",
    "zFun <- function(popgraph,coefgamma=0,n=2,multiplicity=FALSE){\n",
    "  edgeik <- data.frame(as_edgelist(popgraph))\n",
    "  colnames(edgeik) <- c('i','k')\n",
    "  idx_F <- unique(edgeik$i)\n",
    "  idx_omega <- unique(edgeik$k)\n",
    "  card_alphai <- NULL\n",
    "  for(i in idx_F){\n",
    "    card_alphai <- c(card_alphai,sum(edgeik$i %in% i))  \n",
    "  }\n",
    "  \n",
    "  card_betak <- NULL\n",
    "  for(k in idx_omega){\n",
    "    card_betak <- c(card_betak,sum(edgeik$k %in% k))  \n",
    "  }\n",
    "  yk <- rep(1,length(idx_omega))\n",
    "  probi <- rep(n/length(idx_F),length(idx_F))\n",
    "  zi <-  NULL\n",
    "  for(i in idx_F){\n",
    "    if(i %in% edgeik$i){\n",
    "      tmp.k <- edgeik$k[edgeik$i %in% i]\n",
    "      if(multiplicity){tmp.zi <- sum(yk[idx_omega %in% tmp.k]/card_betak[idx_omega %in% tmp.k])}\n",
    "      if(!multiplicity){\n",
    "        tmp.zi <- 0\n",
    "        for(k in tmp.k){\n",
    "          betak <- edgeik$i[edgeik$k %in% k]\n",
    "          wik <- (probi[idx_F==i]*(1/(card_alphai[unique(edgeik$i)==i])^coefgamma)/(sum(probi[idx_F %in% betak]*(1/card_alphai[unique(edgeik$i) %in% betak])^coefgamma)))\n",
    "          tmp.zi <- tmp.zi + yk[idx_omega==k]*wik\n",
    "        }\n",
    "      }\n",
    "    }\n",
    "    if(!(i %in% edgeik$i)){\n",
    "      tmp.zi <- 0}\n",
    "    zi <- c(zi,tmp.zi)\n",
    "  }\n",
    "  return(zi)\n",
    "}"
   ]
  },
  {
   "cell_type": "code",
   "execution_count": 60,
   "metadata": {},
   "outputs": [],
   "source": [
    "# HTE, HH-type estimators and priority-rule estimators\n",
    "mainBIGSIWE <- function(popgraph,coefgamma=0,n=2){\n",
    "  edgeik <- data.frame(as_edgelist(popgraph))\n",
    "  colnames(edgeik) <- c('i','k')\n",
    "  idx_F <- unique(edgeik$i)\n",
    "  N <- length(idx_F)\n",
    "  idx_omega <- unique(edgeik$k)\n",
    "  card_alphai <- NULL\n",
    "  for(i in idx_F){\n",
    "    card_alphai <- c(card_alphai,sum(edgeik$i %in% i))  \n",
    "  }\n",
    "  \n",
    "  card_betak <- NULL\n",
    "  for(k in idx_omega){\n",
    "    card_betak <- c(card_betak,sum(edgeik$k %in% k))  \n",
    "  }\n",
    "  \n",
    "  yk <- rep(1,length(idx_omega))\n",
    "  probi <- rep(n/N,N)\n",
    "  probk <- 1-choose(N-card_betak,n)/choose(N,n)\n",
    "  \n",
    "  \n",
    "  # All possible subsets\n",
    "  all.subsets <- combn(N,n)\n",
    "  B <- dim(all.subsets)[2]\n",
    "\n",
    "  # Estimates over random samples\n",
    "  YhatHH_alpha <- NULL\n",
    "  YhatHT <- NULL\n",
    "  Yhatp <- matrix(0,nrow=B,ncol=3)\n",
    "  idx_F_rnd <- idx_F[order(runif(N,0,1))]\n",
    "  for(b in 1:B){\n",
    "    s0 <- idx_F[all.subsets[,b]]\n",
    "    s1 <- unique(edgeik$k[edgeik$i %in% s0])\n",
    "    zi_alpha <- zFun(popgraph,coefgamma)\n",
    "    probi <- rep(n/N,N)\n",
    "    YhatHH_alpha <- c(YhatHH_alpha,sum(zi_alpha[idx_F %in% s0]/probi[idx_F %in% s0])) \n",
    "    YhatHT <- c(YhatHT,sum(yk[idx_omega %in% s1]/probk[idx_omega %in% s1])) \n",
    "    # For priority-rule estimators \n",
    "    col.id <- 1\n",
    "    for(orderF in c('random','ascending','descending')){\n",
    "      idx_F_ordered <- idx_F_rnd\n",
    "      if(orderF==\"ascending\"){idx_F_ordered <- idx_F[order(card_alphai)]}\n",
    "      if(orderF==\"descending\"){idx_F_ordered <- rev(idx_F[order(card_alphai)])}\n",
    "    tmp.Yhatp <- 0\n",
    "    for(k in s1){\n",
    "      betak <- edgeik$i[edgeik$k %in% k]\n",
    "      prioriloc <- min(which(idx_F_ordered %in% betak[betak %in% s0]))\n",
    "      priori <- idx_F_ordered[prioriloc]\n",
    "      dik <- sum(which(idx_F_ordered %in% betak)<prioriloc)\n",
    "      pik <- choose(N-1-dik,n-1)/choose(N-1,n-1)\n",
    "      tmp.Yhatp <- tmp.Yhatp + yk[idx_omega %in% k]/pik/card_betak[idx_omega %in% k]/probi[idx_F %in% priori]\n",
    "    }\n",
    "    Yhatp[b,col.id] <- tmp.Yhatp\n",
    "    col.id <- col.id + 1\n",
    "    }\n",
    "  }\n",
    "  \n",
    "  cat(\"gamma =\",coefgamma,\"\\n\")\n",
    "  cat(\"idxF: \",idx_F, '\\t',\"alphai: \", card_alphai,\"\\n\")\n",
    "\n",
    "  resultIWE <- t(array(c(mean(YhatHT),mean(YhatHH_alpha),mean(Yhatp[,1]),mean(Yhatp[,2]),mean(Yhatp[,3]),c(var(YhatHT),var(YhatHH_alpha),var(Yhatp[,1]),var(Yhatp[,2]),var(Yhatp[,3]))*(B-1)/B),c(5,2)))\n",
    "  colnames(resultIWE) <- c('YhatHTE','ZhatHH','Yhatp_rnd','Yhatp_asc','Yhatp_desc')\n",
    "  rownames(resultIWE) <- c('ExpectedValue','Variance')\n",
    "  print(resultIWE)\n",
    "}"
   ]
  },
  {
   "cell_type": "code",
   "execution_count": 61,
   "metadata": {},
   "outputs": [
    {
     "data": {
      "text/plain": [
       "+ 11/11 vertices, from 954d6f9:\n",
       " [1]  1  2  3  4  5  6  7  8  9 10 11"
      ]
     },
     "metadata": {},
     "output_type": "display_data"
    },
    {
     "data": {
      "text/plain": [
       "+ 11/11 edges from 954d6f9:\n",
       " [1] 1-> 8 1->10 1->11 2-> 5 2-> 6 2-> 7 2-> 8 3-> 8 4-> 6 4-> 7 4-> 9"
      ]
     },
     "metadata": {},
     "output_type": "display_data"
    },
    {
     "data": {
      "text/html": [
       "<table>\n",
       "<tbody>\n",
       "\t<tr><td>1 </td><td> 8</td></tr>\n",
       "\t<tr><td>1 </td><td>10</td></tr>\n",
       "\t<tr><td>1 </td><td>11</td></tr>\n",
       "\t<tr><td>2 </td><td> 5</td></tr>\n",
       "\t<tr><td>2 </td><td> 6</td></tr>\n",
       "\t<tr><td>2 </td><td> 7</td></tr>\n",
       "\t<tr><td>2 </td><td> 8</td></tr>\n",
       "\t<tr><td>3 </td><td> 8</td></tr>\n",
       "\t<tr><td>4 </td><td> 6</td></tr>\n",
       "\t<tr><td>4 </td><td> 7</td></tr>\n",
       "\t<tr><td>4 </td><td> 9</td></tr>\n",
       "</tbody>\n",
       "</table>\n"
      ],
      "text/latex": [
       "\\begin{tabular}{ll}\n",
       "\t 1  &  8\\\\\n",
       "\t 1  & 10\\\\\n",
       "\t 1  & 11\\\\\n",
       "\t 2  &  5\\\\\n",
       "\t 2  &  6\\\\\n",
       "\t 2  &  7\\\\\n",
       "\t 2  &  8\\\\\n",
       "\t 3  &  8\\\\\n",
       "\t 4  &  6\\\\\n",
       "\t 4  &  7\\\\\n",
       "\t 4  &  9\\\\\n",
       "\\end{tabular}\n"
      ],
      "text/markdown": [
       "\n",
       "| 1  |  8 |\n",
       "| 1  | 10 |\n",
       "| 1  | 11 |\n",
       "| 2  |  5 |\n",
       "| 2  |  6 |\n",
       "| 2  |  7 |\n",
       "| 2  |  8 |\n",
       "| 3  |  8 |\n",
       "| 4  |  6 |\n",
       "| 4  |  7 |\n",
       "| 4  |  9 |\n",
       "\n"
      ],
      "text/plain": [
       "      [,1] [,2]\n",
       " [1,] 1     8  \n",
       " [2,] 1    10  \n",
       " [3,] 1    11  \n",
       " [4,] 2     5  \n",
       " [5,] 2     6  \n",
       " [6,] 2     7  \n",
       " [7,] 2     8  \n",
       " [8,] 3     8  \n",
       " [9,] 4     6  \n",
       "[10,] 4     7  \n",
       "[11,] 4     9  "
      ]
     },
     "metadata": {},
     "output_type": "display_data"
    },
    {
     "name": "stdout",
     "output_type": "stream",
     "text": [
      "|Beta_kappa| = 1 2 2 3 1 1 1 \n",
      "|alpha_i| = 3 4 1 3 \n"
     ]
    },
    {
     "data": {
      "image/png": "[encoded data removed]",
      "text/plain": [
       "Plot with title \"\""
      ]
     },
     "metadata": {},
     "output_type": "display_data"
    }
   ],
   "source": [
    "# Generate a population graph\n",
    "set.seed(270521)\n",
    "popg <- skthBIG(showplot=TRUE)$G\n",
    "V(popg)\n",
    "E(popg)\n",
    "as_edgelist(popg)\n",
    "cat('|Beta_kappa| =',table(as_edgelist(popg)[,2]),'\\n')\n",
    "cat('|alpha_i| =', table(as_edgelist(popg)[,1]),'\\n')"
   ]
  },
  {
   "cell_type": "code",
   "execution_count": 63,
   "metadata": {},
   "outputs": [
    {
     "name": "stdout",
     "output_type": "stream",
     "text": [
      "g: 1 \t zi_alpha: 2.210526 2.015038 0.6315789 2.142857 ; var(zi_alpha): 0.5625106 \n",
      " \t zi_beta: 2.333333 2.333333 0.3333333 2 ; var(zi_beta): 0.9166667 \n"
     ]
    }
   ],
   "source": [
    "# zFun(popgraph,coefgamma=0,n=2,multiplicity=FALSE)\n",
    "coefg <- 1\n",
    "cat('g:',coefg,'\\t','zi_alpha:',zFun(popg,coefg),'; var(zi_alpha):',var(zFun(popg,coefg)),\"\\n\",'\\t','zi_beta:',zFun(popg,multiplicity = TRUE),'; var(zi_beta):',var(zFun(popg,multiplicity = TRUE)),\"\\n\")"
   ]
  },
  {
   "cell_type": "code",
   "execution_count": 64,
   "metadata": {},
   "outputs": [
    {
     "name": "stdout",
     "output_type": "stream",
     "text": [
      "[1] 2.6\n"
     ]
    },
    {
     "data": {
      "image/png": "[encoded data removed]",
      "text/plain": [
       "plot without title"
      ]
     },
     "metadata": {},
     "output_type": "display_data"
    }
   ],
   "source": [
    "# Variance of zi_alpha for different choices of gamma\n",
    "max.gamma <- 25\n",
    "range.gamma <- seq(0,max.gamma,by=0.1)\n",
    "varzi_alpha <- NULL\n",
    "for(tmp.gamma in range.gamma){tmp <- var(zFun(popg,tmp.gamma))\n",
    "varzi_alpha <- c(varzi_alpha,tmp)}\n",
    "# Gamma value which gives minimum variance\n",
    "gamma.minvar <- range.gamma[which(varzi_alpha==min(varzi_alpha))]\n",
    "print(gamma.minvar)\n",
    "par(mfrow=c(1,1),xpd=TRUE)\n",
    "plot(range.gamma,varzi_alpha,xlab='gamma',ylab='V(zi_alpha)')\n",
    "abline(h=var(zFun(popg,0,multiplicity=TRUE)))\n",
    "text(max.gamma*0.95,var(zFun(popg,0,multiplicity=TRUE))*0.98,label='V(zi_beta)',pos=1)\n",
    "abline(v=gamma.minvar,lty=2)\n",
    "text(gamma.minvar,max(varzi_alpha)*1.05,label=paste('gamma.minvar=',gamma.minvar),adj=1)"
   ]
  },
  {
   "cell_type": "code",
   "execution_count": 65,
   "metadata": {},
   "outputs": [
    {
     "data": {
      "text/html": [
       "0.384438129044366"
      ],
      "text/latex": [
       "0.384438129044366"
      ],
      "text/markdown": [
       "0.384438129044366"
      ],
      "text/plain": [
       "[1] 0.3844381"
      ]
     },
     "metadata": {},
     "output_type": "display_data"
    },
    {
     "data": {
      "text/html": [
       "0.916666666666667"
      ],
      "text/latex": [
       "0.916666666666667"
      ],
      "text/markdown": [
       "0.916666666666667"
      ],
      "text/plain": [
       "[1] 0.9166667"
      ]
     },
     "metadata": {},
     "output_type": "display_data"
    }
   ],
   "source": [
    "# Minimum variance\n",
    "var(zFun(popg,gamma.minvar))\n",
    "# Variance with multiplicity weights\n",
    "var(zFun(popg,0))"
   ]
  },
  {
   "cell_type": "code",
   "execution_count": 68,
   "metadata": {},
   "outputs": [
    {
     "name": "stdout",
     "output_type": "stream",
     "text": [
      "gamma = 0 \n",
      "idxF:  1 2 3 4 \t alphai:  3 4 1 3 \n",
      "               YhatHTE   ZhatHH Yhatp_rnd Yhatp_asc Yhatp_desc\n",
      "ExpectedValue 7.000000 7.000000  7.000000  7.000000   7.000000\n",
      "Variance      3.466667 3.666667  4.888889  4.444444   3.555556\n"
     ]
    }
   ],
   "source": [
    "mainBIGSIWE(popg)"
   ]
  },
  {
   "cell_type": "code",
   "execution_count": 69,
   "metadata": {},
   "outputs": [
    {
     "name": "stdout",
     "output_type": "stream",
     "text": [
      "gamma = 2.6 \n",
      "idxF:  1 2 3 4 \t alphai:  3 4 1 3 \n",
      "               YhatHTE   ZhatHH Yhatp_rnd Yhatp_asc Yhatp_desc\n",
      "ExpectedValue 7.000000 7.000000  7.000000  7.000000   7.000000\n",
      "Variance      3.466667 1.537753  3.555556  4.444444   3.555556\n"
     ]
    }
   ],
   "source": [
    "mainBIGSIWE(popg,coefgamma=gamma.minvar)"
   ]
  },
  {
   "cell_type": "code",
   "execution_count": 70,
   "metadata": {},
   "outputs": [
    {
     "name": "stdout",
     "output_type": "stream",
     "text": [
      "gamma = 0.5 \n",
      "idxF:  1 2 3 4 \t alphai:  3 4 1 3 \n",
      "               YhatHTE   ZhatHH Yhatp_rnd Yhatp_asc Yhatp_desc\n",
      "ExpectedValue 7.000000 7.000000  7.000000  7.000000   7.000000\n",
      "Variance      3.466667 2.889496  5.111111  4.444444   3.555556\n"
     ]
    }
   ],
   "source": [
    "mainBIGSIWE(popg,coefgamma=0.5)"
   ]
  }
 ],
 "metadata": {
  "kernelspec": {
   "display_name": "R",
   "language": "R",
   "name": "ir"
  },
  "language_info": {
   "codemirror_mode": "r",
   "file_extension": ".r",
   "mimetype": "text/x-r-source",
   "name": "R",
   "pygments_lexer": "r",
   "version": "3.6.1"
  }
 },
 "nbformat": 4,
 "nbformat_minor": 4
}
