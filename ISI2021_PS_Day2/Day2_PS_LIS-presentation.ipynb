{
 "cells": [
  {
   "cell_type": "markdown",
   "metadata": {},
   "source": [
    "# <center>Day-2 Practical Session, 26 May 2021</center>\n",
    "## <center>Part 2: BIGS-IWE strategy for Line Intercept Sampling (LIS)</center>\n",
    "#### <center> *Li-Chun Zhang*<sup>1,2,3</sup> and *Melike Oguz-Alper*<sup>2</sup> </center>\n",
    "  \n",
    "##### <center> <sup>1</sup>*University of Southampton (L.Zhang@soton.ac.uk)*, <sup>2</sup>*Statistics Norway*, <sup>3</sup>*University of Oslo* </center>\n",
    "***"
   ]
  },
  {
   "cell_type": "markdown",
   "metadata": {},
   "source": [
    "In this illustration, we will apply BIGS-IWE strategy to line-intercept sampling (LIS) which is a method of habitat sampling in a given area, where a habitat is sampled if a chosen line segment transects it. An example of LIS is given by Becker (1991). The sketch of the observed tracks can be obtained by compiling R-function <font color=green>**skthLISBecker**</font>. Visualisation of the BIG constructed based on the observed line-intercept samples can be obtained by using R-function <font color=green>**skthLISBeckerBIG**</font>.\n",
    "\n",
    "***\n",
    "#### Description of the population and sampling strategies\n",
    "* Population BIG: $\\mathcal{B}=(F,\\Omega;H)$, where $\\Omega$ consists of all wolverine tracks in the region of interest, $F$ contains the corresponding projection segments, and $H$ consist of edges between the tracks and the segments, i.e. $(i\\kappa)\\in H$ for $i\\in F$ and $\\kappa \\in \\Omega$  \n",
    "    * **NB**.   $\\mathcal{B}$ cannot be consructed unless the whole area observed\n",
    "* Observed BIG: $\\mathcal{B}^*=(F^*,\\Omega_s;H^*)$, where $\\Omega_s$ contains the observed wolverine tracks, $F^*$ contain the projection segments constructed based on the actual samples $s$ and $\\Omega_s$, and $H^*$ consists of the incident observational links from $F^*$ to $\\Omega_s$\n",
    "* $\\beta_{\\kappa}^*$: *ancestry* set of $\\kappa \\in \\Omega_s$ in $\\mathcal{B}^*$ and $\\alpha_i^*$: *successors* of $i \\in F^*$ in $\\mathcal{B}^*$ \n",
    "* Four systematic samples, A, B, C and D,  each containing three positions drawn on the baseline. Equal distances of $12$ miles between each position in a given draw\n",
    "* Four wolverine tracks observed: $\\Omega_s=\\{\\kappa_1,\\kappa_2,\\kappa_3,\\kappa_4\\}$; $y_\\kappa= (1,2,2,1)^\\top$ and $L_\\kappa=(5.25,7.5,2.4,7.05)^\\top$\n",
    "* The baseline divided into seven projection segments given the tracks: $F^*=\\{i_1,i_2,i_3,i_4,i_5,i_6,i_7\\}$\n",
    "* The probability that the $i$th segment selected under systematic sampling: $p_i=x_i/12$, where $\\mathbf{x}=(5.25,2.25,x_3,2.4,x_5,7.05,x_7)^\\top$\n",
    "* We have $s_1=s_2=\\{i_1,i_5,i_6\\}$, yielding $\\Omega_s=\\{\\kappa_1,\\kappa_2,\\kappa_4\\}$, and $s_3=s_4=\\{i_4,i_6,i_7\\}$, yielding $\\Omega_s=\\{\\kappa_3,\\kappa_4\\}$\n",
    "*** \n",
    "\n",
    "#### Formula sheet\n",
    "* The parameter of interest: total number of wolverines in the region of interest\n",
    "\n",
    "    $\\theta=\\sum_{\\kappa\\in\\Omega}y_{\\kappa}$, where $y_{\\kappa}$ number of wolverines in track $\\kappa$\n",
    "\n",
    "* Hansen-Hurwitz (HH) type estimators on the $r$th draw\n",
    "\n",
    "    $\\hat{\\theta}_r =  \\sum_{i\\in s_r}\\frac{z_i}{p_i}$, where $z_i=\\sum_{\\kappa \\in\\alpha_i^*}w_{i\\kappa}y_{\\kappa}$\n",
    "\n",
    "    * *Multiplicity* estimator; equal weights\n",
    "    \n",
    "        $w_{i\\kappa}\\equiv \\frac{1}{\\mid\\beta_{\\kappa}^*\\mid}$\n",
    "    \n",
    "    * HH-type estimator with *unequal* weights: *probability and inverse degree-adjusted (PIDA) weights*\n",
    "     \n",
    "        $w_{i\\kappa}=\\frac{p_i}{\\mid\\alpha_i^*\\mid^{\\gamma}}\\big(\\sum_{i \\in \\beta_{\\kappa}^*}\\frac{p_i}{\\mid\\alpha_i^*\\mid^{\\gamma}}\\big)^{-1}$, $\\gamma \\geq 0$\n",
    "        \n",
    "**NB**. When $\\gamma=0$, PIDA weights reduce to $w_{i\\kappa}=p_i/p_{(\\kappa)}$, where $p_{(\\kappa)}=\\sum_{i \\in \\beta_{\\kappa}^*}p_i$\n",
    "\n",
    "* HH-type estimators over all the draws\n",
    "\n",
    "    $\\hat{\\theta}=\\frac{1}{4}\\sum_{r=1}^4\\hat{\\theta}_r$\n",
    "    \n",
    "* Variance estimator of the HH-type estimators over all the draws\n",
    "\n",
    "    $\\hat{\\mathrm{V}}(\\hat{\\theta})=\\frac{1}{4}\\frac{\\sum_{r=1}^4(\\hat{\\theta}_r-\\hat{\\theta})^2}{r-1}$\n",
    "    \n",
    "***\n",
    "\n",
    "**NB**. R-package **igraph** has to be installed before running R-functions below that generates bipartite graphs.\n",
    "\n",
    "***\n",
    "\n",
    "#### Description of R-function <font color=green>**skthLISBeckerBIG**</font>\n",
    "##### 1. Function parameters\n",
    "* **showplot**: Use <font color=blue>**TRUE**</font> to get the skecth of BIG; default <font color=blue>**FALSE**</font>\n",
    "\n",
    "##### 2. Main steps of the function\n",
    "* A bipartite graph constructed based on the observed wolverine tracks and the sample line segments transecting them. R-package **igraph** used to generate the graph\n",
    "\n",
    "##### 3. Main outputs of the function\n",
    "* BIG plot shown if **showplot**=  <font color=blue>**TRUE**</font>\n",
    "* The bipartite graph generated is returned as a graph object. It shall be called via **$G**\n",
    "\n",
    "#### Description of R-function <font color=green>**zLISBecker**</font>\n",
    "##### 1. Function parameters\n",
    "* **graphstar**: graph to be used: the output of <font color=green>**skthLISBeckerBIG**</font>\n",
    "* **coefgamma**: coefficient to be used in the HH-type estimator with PIDA weights; default value $0$. No effect of the choice if **multiplicity**= <font color=blue>**TRUE**</font>\n",
    "* **probi**: a vector of the selection probabilities of the constructed projection segments\n",
    "* **multiplicity**: Use <font color=blue>**TRUE**</font> to get $z_i$ values based on equal weights, i.e. $w_{i\\kappa}=\\mid\\beta_{\\kappa}^*\\mid^{-1}$; default <font color=blue>**FALSE**</font>\n",
    "\n",
    "##### 2. Main steps of the function\n",
    "* Edge set derived from the input graph, as well as the labels of the vertices in $F^*$ and $\\Omega_s$\n",
    "* $\\mid \\alpha_i^* \\mid$ and $\\mid \\beta_{\\kappa}^*\\mid$ calculated based on the edge set\n",
    "* $z_i$ values calculated for all $i\\in F^*$ for chosen values of $\\gamma$\n",
    "\n",
    "##### 3. Main outputs of the function\n",
    "* $z_i$ values returned\n",
    "\n",
    "#### Description of R-function <font color=green>**mainLISBecker**</font>\n",
    "##### 1. Function parameters\n",
    "* **graphstar**: graph to be used: the output of <font color=green>**skthLISBeckerBIG**</font>\n",
    "* **coefgamma**: coefficient to be used in the HH-type estimator with PIDA weights; default value $0$. No effect of the choice if **multiplicity**= <font color=blue>**TRUE**</font>\n",
    "* **probi**: a vector of the selection probabilities of the constructed projection segments\n",
    "* **multiplicity**: Use <font color=blue>**TRUE**</font> to get $z_i$ values based on equal weights, i.e. $w_{i\\kappa}=\\mid\\beta_{\\kappa}^*\\mid^{-1}$; default <font color=blue>**FALSE**</font>\n",
    "* **showcat**: Use <font color=blue>**FALSE**</font> to avoid printing outputs from the *cat* function in R; default <font color=blue>**TRUE**</font>\n",
    "\n",
    "##### 2. Main steps of the function\n",
    "* Edge set derived from the input graph\n",
    "* $\\mid \\alpha_i^* \\mid$ and $\\mid \\beta_{\\kappa}^*\\mid$ calculated based on the edge set\n",
    "* $z_i$ values obtained by calling function <font color=green>**zLISBecker**</font>\n",
    "* For each draw under systematic sampling, estimates obtained by using the HH-type estimator.\n",
    "* The HH-type estimator over all draws applied by taking the average of the estimates. Variance of the estimator calculated\n",
    "\n",
    "##### 3. Main outputs of the function\n",
    "* An estimate for the total number of wolverine tracks in the given area and its estimated variance. Variance estimate can be called via **$varest** for further analysis.\n",
    "\n",
    "***"
   ]
  },
  {
   "cell_type": "code",
   "execution_count": 27,
   "metadata": {},
   "outputs": [],
   "source": [
    "# load R-package igraph\n",
    "library(igraph)"
   ]
  },
  {
   "cell_type": "code",
   "execution_count": 28,
   "metadata": {},
   "outputs": [],
   "source": [
    "# Skecth of the wolverine tracks, Becker (1991)\n",
    "skthLISBecker <- function()\n",
    "{\n",
    "  plot(0,xaxt=\"n\",yaxt=\"n\",type=\"l\",ylab=\"\",xlab=\"Baseline\",xlim=c(0,120),ylim=c(0,60),bty=\"n\")\n",
    "  lines(c(0,0),c(0,60)); lines(c(0,120),c(0,0)); lines(c(0,120),c(60,60)); lines(c(120,120),c(0,60))\n",
    "  lines(c(0,10,12,19),c(40,40,36,42),lty=2); text(19,45,labels=\"k1\") \n",
    "  lines(c(0,5,15,25),c(15,18,14,18),lty=2); text(20,12,labels=\"k2\") \n",
    "  lines(c(31,34,38),c(25,30,20),lty=2); text(29,30,labels=\"k3\") \n",
    "  lines(c(75,68,85,90),c(10,15,20,15),lty=2); text(86,23,labels=\"k4\") \n",
    "  abline(v=c(2,42,82)); text(2,4,label=\"A1\"); text(42,4,label=\"A2\"); text(82,4,label=\"A3\")\n",
    "  abline(v=c(10,50,90)); text(10,1,label=\"B1\"); text(50,1,label=\"B2\"); text(90,1,label=\"B3\")\n",
    "  abline(v=c(35,75,115)); text(35,3,label=\"C1\"); text(75,3,label=\"C2\"); text(115,3,label=\"C3\")\n",
    "  abline(v=c(38,78,118)); text(38,-1,label=\"D1\"); text(78,-1,label=\"D2\"); text(118,-1,label=\"D3\")\n",
    "\n",
    "}"
   ]
  },
  {
   "cell_type": "code",
   "execution_count": 29,
   "metadata": {},
   "outputs": [],
   "source": [
    "# Skecth of BIG representation of LIS, Becker (1991)\n",
    "skthLISBeckerBIG <- function(showplot=FALSE)\n",
    "{\n",
    "  # Projection of wolverine tracks on the baseline; \n",
    "  # Areas without tracks assigned length of 1\n",
    "  idx_F <- paste('i',1:7,sep='')\n",
    "  idx_omega <- paste('k',1:4,sep='')\n",
    "  edgeik <- data.frame(i=c('i1','i1','i2','i4','i6'),k=c('k1','k2','k2','k3','k4'))\n",
    "  g <- graph_from_data_frame(edgeik, directed = TRUE)\n",
    "  g <- add_vertices(g,3,attr=list(name=c('i3','i5','i7')))\n",
    "\n",
    "  # Apply bipartite layout\n",
    "  LO_bipart <- layout_as_bipartite(g,types=bipartite_mapping(g)$type)\n",
    "  LO_bipart[bipartite_mapping(g)$type==FALSE,2] <- 0\n",
    "  LO_bipart[bipartite_mapping(g)$type==TRUE,2] <- 1\n",
    "  \n",
    "  nodecolor <- rep(\"yellow\",length(V(g)))\n",
    "  nodecolor[bipartite_mapping(g)$type==TRUE] <- \"orange\"\n",
    "  \n",
    "  # Plot BIG\n",
    "  if(showplot){\n",
    "    plot(g, vertex.label=V(g)$name, vertex.size=10,vertex.label.dist=0,vertex.label.cex=1.25,\n",
    "         vertex.color=nodecolor, layout=LO_bipart[,2:1]) }\n",
    "\n",
    "return(list(G=g))  \n",
    "}"
   ]
  },
  {
   "cell_type": "code",
   "execution_count": 30,
   "metadata": {},
   "outputs": [],
   "source": [
    "# zi-values\n",
    "zLISBecker <- function(graphstar,coefgamma=0,probi,multiplicity=FALSE){\n",
    "  edgeik <- data.frame(as_edgelist(graphstar))\n",
    "  colnames(edgeik) <- c('i','k')\n",
    "  idx_F <- as_ids(V(graphstar)[bipartite.mapping(graphstar)$type==FALSE])\n",
    "  idx_F <- idx_F[order(idx_F)]\n",
    "  idx_omega <- as_ids(V(graphstar)[bipartite.mapping(graphstar)$type==TRUE])\n",
    "  card_alphai <- NULL\n",
    "  for(i in idx_F){\n",
    "    card_alphai <- c(card_alphai,sum(edgeik$i %in% i))  \n",
    "  }\n",
    "  \n",
    "  card_betak <- NULL\n",
    "  for(k in idx_omega){\n",
    "    card_betak <- c(card_betak,sum(edgeik$k %in% k))  \n",
    "  }\n",
    "  yk <- c(1,2,2,1)\n",
    "  zi <-  NULL\n",
    "  for(i in idx_F){\n",
    "    if(i %in% edgeik$i){\n",
    "      tmp.k <- edgeik$k[edgeik$i %in% i]\n",
    "      if(multiplicity){tmp.zi <- sum(yk[idx_omega %in% tmp.k]/card_betak[idx_omega %in% tmp.k])}\n",
    "      if(!multiplicity){\n",
    "        tmp.zi <- 0\n",
    "        for(k in tmp.k){\n",
    "          betak <- edgeik$i[edgeik$k %in% k]\n",
    "          wik <- (probi[idx_F==i]*(1/(card_alphai[idx_F==i])^coefgamma)/(sum(probi[idx_F %in% betak]*(1/card_alphai[idx_F %in% betak])^coefgamma)))\n",
    "          tmp.zi <- tmp.zi + yk[idx_omega==k]*wik\n",
    "        }\n",
    "      }\n",
    "    }\n",
    "    if(!(i %in% edgeik$i)){\n",
    "      tmp.zi <- 0}\n",
    "    zi <- c(zi,tmp.zi)\n",
    "  }\n",
    "  return(zi)\n",
    "}"
   ]
  },
  {
   "cell_type": "code",
   "execution_count": 31,
   "metadata": {},
   "outputs": [],
   "source": [
    "# HH-estimators over all draws\n",
    "mainLISBecker <- function(graphstar,coefgamma=0,probi,multiplicity=FALSE,showcat=TRUE){\n",
    "  edgeik <- data.frame(as_edgelist(graphstar))\n",
    "  colnames(edgeik) <- c('i','k')\n",
    "  idx_F <- as_ids(V(graphstar)[bipartite.mapping(graphstar)$type==FALSE])\n",
    "  idx_F <- idx_F[order(idx_F)]\n",
    "  idx_omega <- as_ids(V(graphstar)[bipartite.mapping(graphstar)$type==TRUE])\n",
    "\n",
    "all.subsets <- list(c(1,5,6),c(1,5,6),c(4,6,7),c(4,6,7))\n",
    "B <- length(all.subsets)\n",
    "\n",
    "# Estimates over random samples\n",
    "  YhatHH_alpha <- NULL\n",
    "  for(b in 1:B){\n",
    "    s0 <- idx_F[all.subsets[[b]]]\n",
    "    s1 <- unique(edgeik$k[edgeik$i %in% s0])\n",
    "    zi_alpha <- zLISBecker(graphstar,coefgamma,probi,multiplicity = multiplicity)\n",
    "    YhatHH_alpha <- c(YhatHH_alpha,sum(zi_alpha[idx_F %in% s0]/probi[idx_F %in% s0])) \n",
    "  }\n",
    "\n",
    "if(showcat){\n",
    "  cat('g:',coefgamma,'\\t','zi:',zi_alpha,\"\\n\")\n",
    "  \n",
    "  cat(\"Estimate per draw: \",YhatHH_alpha, \"\\n\")\n",
    "  cat(\"(Estimate over all draws,VarEst): \",mean(YhatHH_alpha), '\\t',var(YhatHH_alpha)/B, \"\\n\")\n",
    "}\n",
    "  return(list(varest=var(YhatHH_alpha)/B))\n",
    "}  "
   ]
  },
  {
   "cell_type": "code",
   "execution_count": 32,
   "metadata": {},
   "outputs": [
    {
     "data": {
      "image/png": "[encoded data removed]",
      "text/plain": [
       "plot without title"
      ]
     },
     "metadata": {},
     "output_type": "display_data"
    },
    {
     "data": {
      "text/plain": [
       "$G\n",
       "IGRAPH f450c81 DN-- 11 5 -- \n",
       "+ attr: name (v/c)\n",
       "+ edges from f450c81 (vertex names):\n",
       "[1] i1->k1 i1->k2 i2->k2 i4->k3 i6->k4\n"
      ]
     },
     "metadata": {},
     "output_type": "display_data"
    },
    {
     "data": {
      "image/png": "[encoded data removed]",
      "text/plain": [
       "Plot with title \"\""
      ]
     },
     "metadata": {},
     "output_type": "display_data"
    }
   ],
   "source": [
    "skthLISBecker()\n",
    "skthLISBeckerBIG(showplot=TRUE)"
   ]
  },
  {
   "cell_type": "code",
   "execution_count": 33,
   "metadata": {},
   "outputs": [],
   "source": [
    "# Generate the graph based on observed units\n",
    "gstar <- skthLISBeckerBIG()$G"
   ]
  },
  {
   "cell_type": "code",
   "execution_count": 34,
   "metadata": {},
   "outputs": [
    {
     "name": "stdout",
     "output_type": "stream",
     "text": [
      "g: 0 \t zi_alpha: 2.4 0.6 0 2 0 1 0 \n",
      " \t zi_beta: 2 1 0 2 0 1 0 \n"
     ]
    }
   ],
   "source": [
    "xi <- c(5.25,7.5-5.25,1,2.4,1,7.05,1)\n",
    "pi <- xi/12\n",
    "coefg <- 0\n",
    "cat('g:',coefg,'\\t','zi_alpha:',zLISBecker(gstar,coefg,pi),\"\\n\",'\\t','zi_beta:',zLISBecker(gstar,pi, multiplicity = TRUE),\"\\n\")"
   ]
  },
  {
   "cell_type": "code",
   "execution_count": 35,
   "metadata": {},
   "outputs": [
    {
     "name": "stdout",
     "output_type": "stream",
     "text": [
      "g: 0 \t zi: 2 1 0 2 0 1 0 \n",
      "Estimate per draw:  6.273556 6.273556 11.70213 11.70213 \n",
      "(Estimate over all draws,VarEst):  8.987842 \t 2.455782 \n"
     ]
    },
    {
     "data": {
      "text/html": [
       "<strong>$varest</strong> = 2.45578231292517"
      ],
      "text/latex": [
       "\\textbf{\\$varest} = 2.45578231292517"
      ],
      "text/markdown": [
       "**$varest** = 2.45578231292517"
      ],
      "text/plain": [
       "$varest\n",
       "[1] 2.455782\n"
      ]
     },
     "metadata": {},
     "output_type": "display_data"
    }
   ],
   "source": [
    "mainLISBecker(gstar,probi=pi,multiplicity=TRUE)"
   ]
  },
  {
   "cell_type": "code",
   "execution_count": 36,
   "metadata": {},
   "outputs": [
    {
     "name": "stdout",
     "output_type": "stream",
     "text": [
      "g: 0 \t zi: 2.4 0.6 0 2 0 1 0 \n",
      "Estimate per draw:  7.187842 7.187842 11.70213 11.70213 \n",
      "(Estimate over all draws,VarEst):  9.444985 \t 1.698231 \n"
     ]
    },
    {
     "data": {
      "text/html": [
       "<strong>$varest</strong> = 1.69823129251701"
      ],
      "text/latex": [
       "\\textbf{\\$varest} = 1.69823129251701"
      ],
      "text/markdown": [
       "**$varest** = 1.69823129251701"
      ],
      "text/plain": [
       "$varest\n",
       "[1] 1.698231\n"
      ]
     },
     "metadata": {},
     "output_type": "display_data"
    }
   ],
   "source": [
    "mainLISBecker(gstar,probi=pi)"
   ]
  },
  {
   "cell_type": "code",
   "execution_count": 37,
   "metadata": {},
   "outputs": [
    {
     "name": "stdout",
     "output_type": "stream",
     "text": [
      "g: 0.5 \t zi: 2.245259 0.754741 0 2 0 1 0 \n",
      "Estimate per draw:  6.834148 6.834148 11.70213 11.70213 \n",
      "(Estimate over all draws,VarEst):  9.268138 \t 1.974769 \n"
     ]
    },
    {
     "data": {
      "text/html": [
       "<strong>$varest</strong> = 1.97476856050939"
      ],
      "text/latex": [
       "\\textbf{\\$varest} = 1.97476856050939"
      ],
      "text/markdown": [
       "**$varest** = 1.97476856050939"
      ],
      "text/plain": [
       "$varest\n",
       "[1] 1.974769\n"
      ]
     },
     "metadata": {},
     "output_type": "display_data"
    }
   ],
   "source": [
    "mainLISBecker(gstar,0.5,probi=pi)"
   ]
  },
  {
   "cell_type": "code",
   "execution_count": 38,
   "metadata": {},
   "outputs": [
    {
     "name": "stdout",
     "output_type": "stream",
     "text": [
      "g: 1 \t zi: 2.076923 0.9230769 0 2 0 1 0 \n",
      "Estimate per draw:  6.44938 6.44938 11.70213 11.70213 \n",
      "(Estimate over all draws,VarEst):  9.075754 \t 2.299279 \n"
     ]
    },
    {
     "data": {
      "text/html": [
       "<strong>$varest</strong> = 2.29927947510365"
      ],
      "text/latex": [
       "\\textbf{\\$varest} = 2.29927947510365"
      ],
      "text/markdown": [
       "**$varest** = 2.29927947510365"
      ],
      "text/plain": [
       "$varest\n",
       "[1] 2.299279\n"
      ]
     },
     "metadata": {},
     "output_type": "display_data"
    }
   ],
   "source": [
    "mainLISBecker(gstar,1,probi=pi)"
   ]
  },
  {
   "cell_type": "code",
   "execution_count": 39,
   "metadata": {},
   "outputs": [
    {
     "name": "stdout",
     "output_type": "stream",
     "text": [
      "g: 1.2 \t zi: 2.00776 0.9922395 0 2 0 1 0 \n",
      "Estimate per draw:  6.291294 6.291294 11.70213 11.70213 \n",
      "(Estimate over all draws,VarEst):  8.996711 \t 2.43976 \n"
     ]
    },
    {
     "data": {
      "text/html": [
       "<strong>$varest</strong> = 2.43975967827738"
      ],
      "text/latex": [
       "\\textbf{\\$varest} = 2.43975967827738"
      ],
      "text/markdown": [
       "**$varest** = 2.43975967827738"
      ],
      "text/plain": [
       "$varest\n",
       "[1] 2.43976\n"
      ]
     },
     "metadata": {},
     "output_type": "display_data"
    },
    {
     "name": "stdout",
     "output_type": "stream",
     "text": [
      "g: 0 \t zi: 2 1 0 2 0 1 0 \n",
      "Estimate per draw:  6.273556 6.273556 11.70213 11.70213 \n",
      "(Estimate over all draws,VarEst):  8.987842 \t 2.455782 \n"
     ]
    },
    {
     "data": {
      "text/html": [
       "<strong>$varest</strong> = 2.45578231292517"
      ],
      "text/latex": [
       "\\textbf{\\$varest} = 2.45578231292517"
      ],
      "text/markdown": [
       "**$varest** = 2.45578231292517"
      ],
      "text/plain": [
       "$varest\n",
       "[1] 2.455782\n"
      ]
     },
     "metadata": {},
     "output_type": "display_data"
    },
    {
     "data": {
      "image/png": "[encoded data removed]",
      "text/plain": [
       "plot without title"
      ]
     },
     "metadata": {},
     "output_type": "display_data"
    }
   ],
   "source": [
    "# Variance estimates of zi_alpha for different choices of gamma\n",
    "max.gamma <- 15\n",
    "range.gamma <- seq(0,max.gamma,by=0.1)\n",
    "varest_gamma <- NULL\n",
    "for(tmp.gamma in range.gamma){tmp <- mainLISBecker(gstar, coefgamma=tmp.gamma,probi=pi,showcat = FALSE)$varest\n",
    "varest_gamma <- c(varest_gamma,tmp)                       }\n",
    "# Gamma value which gives minimum variance\n",
    "par(mfrow=c(1,1),xpd=FALSE)\n",
    "plot(range.gamma,varest_gamma,xlab='gamma',ylab='varest')\n",
    "varest_multiplicity <- mainLISBecker(gstar,coefgamma=tmp.gamma,probi=pi,multiplicity = TRUE, showcat = FALSE)$varest\n",
    "abline(h=varest_multiplicity)\n",
    "text(max.gamma*0.90,varest_multiplicity *0.98,label='varest(zi_beta)',pos=1)\n",
    "gamma.multiplicity <- range.gamma[which(abs(varest_gamma-varest_multiplicity)==min(abs(varest_gamma-varest_multiplicity)))]\n",
    "abline(v=gamma.multiplicity,lty=2)\n",
    "text(gamma.multiplicity*1.1,max(varest_gamma)*0.99,label=paste('gamma.multiplicity=',gamma.multiplicity),adj=0)\n",
    "mainLISBecker(gstar,gamma.multiplicity,probi=pi)\n",
    "mainLISBecker(gstar,probi=pi,multiplicity=TRUE)"
   ]
  }
 ],
 "metadata": {
  "kernelspec": {
   "display_name": "R",
   "language": "R",
   "name": "ir"
  },
  "language_info": {
   "codemirror_mode": "r",
   "file_extension": ".r",
   "mimetype": "text/x-r-source",
   "name": "R",
   "pygments_lexer": "r",
   "version": "3.6.1"
  }
 },
 "nbformat": 4,
 "nbformat_minor": 4
}
